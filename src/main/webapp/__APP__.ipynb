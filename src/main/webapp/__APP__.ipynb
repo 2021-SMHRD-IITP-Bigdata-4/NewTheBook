{
 "cells": [
  {
   "cell_type": "code",
   "execution_count": 3,
   "metadata": {},
   "outputs": [
    {
     "name": "stdout",
     "output_type": "stream",
     "text": [
      "__main__\n",
      " * Serving Flask app \"__main__\" (lazy loading)\n",
      " * Environment: production\n",
      "   WARNING: This is a development server. Do not use it in a production deployment.\n",
      "   Use a production WSGI server instead.\n",
      " * Debug mode: off\n"
     ]
    },
    {
     "name": "stderr",
     "output_type": "stream",
     "text": [
      " * Running on http://127.0.0.1:5000/ (Press CTRL+C to quit)\n"
     ]
    }
   ],
   "source": [
    "# <-- 플라스크 서버 설정 -->\n",
    "from flask import Flask, render_template, request \n",
    "import json \n",
    "import numpy as np\n",
    "from tensorflow import keras\n",
    "from sklearn.preprocessing import LabelEncoder\n",
    "\n",
    "import colorama \n",
    "colorama.init()\n",
    "from colorama import Fore, Style, Back\n",
    "import urllib.request\n",
    "import cx_Oracle\n",
    "import random\n",
    "import pickle\n",
    "\n",
    "#     return res\n",
    "\n",
    "app = Flask(__name__)\n",
    "print(__name__)\n",
    "\n",
    "with open(\"intents.json\", encoding='UTF-8') as file:\n",
    "    data = json.load(file)\n",
    "@app.route(\"/chat_req\", methods=['GET','POST'])\n",
    "def chatreq():\n",
    "    mes = request.args['message'] # 사용자 대화 데이터를 넣어줄곳\n",
    "    model = keras.models.load_model('chat_model')\n",
    "    \n",
    "    # load tokenizer object\n",
    "    with open('tokenizer.pickle', 'rb') as handle:\n",
    "        tokenizer = pickle.load(handle)\n",
    "\n",
    "    # load label encoder object\n",
    "    with open('label_encoder.pickle', 'rb') as enc:\n",
    "        lbl_encoder = pickle.load(enc)\n",
    "\n",
    "    # parameters\n",
    "    max_len = 20\n",
    "    \n",
    "    # 숫자열 반환\n",
    "\n",
    "    result = model.predict(keras.preprocessing.sequence.pad_sequences(tokenizer.texts_to_sequences([mes]),\n",
    "                                            truncating='post', maxlen=max_len))\n",
    "    # 한글 인코딩 재전환\n",
    "    tag = lbl_encoder.inverse_transform([np.argmax(result)])\n",
    "\n",
    "    for i in data['intents']:\n",
    "        # 대조 작업\n",
    "        if i['tag'] == tag:\n",
    "            print('responses')\n",
    "            # datachat = Fore.GREEN + \"ChatBot:\" + Style.RESET_ALL , np.random.choice(i['responses'])\n",
    "            datachat = np.random.choice(i['responses'])\n",
    "            print(datachat)\n",
    "        return datachat\n",
    "\n",
    "@app.route(\"/chat\", methods=['GET','POST'])\n",
    "def chatresp():\n",
    "    return render_template('chat.html')\n",
    "\n",
    "app.run(debug=False)\n"
   ]
  },
  {
   "cell_type": "code",
   "execution_count": null,
   "metadata": {},
   "outputs": [],
   "source": []
  }
 ],
 "metadata": {
  "interpreter": {
   "hash": "2861f951e3a7c399de0827812245939bb469fdb27d1e7b9f1c341f8a0f27b67a"
  },
  "kernelspec": {
   "display_name": "Python 3.8.5 64-bit ('base': conda)",
   "name": "python3"
  },
  "language_info": {
   "codemirror_mode": {
    "name": "ipython",
    "version": 3
   },
   "file_extension": ".py",
   "mimetype": "text/x-python",
   "name": "python",
   "nbconvert_exporter": "python",
   "pygments_lexer": "ipython3",
   "version": "3.8.5"
  },
  "orig_nbformat": 4
 },
 "nbformat": 4,
 "nbformat_minor": 2
}
