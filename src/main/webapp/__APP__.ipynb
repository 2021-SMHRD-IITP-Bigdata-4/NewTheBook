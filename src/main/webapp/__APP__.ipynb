{
 "cells": [
  {
   "cell_type": "code",
   "execution_count": 10,
   "metadata": {},
   "outputs": [
    {
     "name": "stdout",
     "output_type": "stream",
     "text": [
      "__main__\n",
      " * Serving Flask app \"__main__\" (lazy loading)\n",
      " * Environment: production\n",
      "   WARNING: This is a development server. Do not use it in a production deployment.\n",
      "   Use a production WSGI server instead.\n",
      " * Debug mode: off\n"
     ]
    },
    {
     "name": "stderr",
     "output_type": "stream",
     "text": [
      " * Running on http://127.0.0.1:5000/ (Press CTRL+C to quit)\n",
      "127.0.0.1 - - [03/Nov/2021 12:26:42] \"GET / HTTP/1.1\" 404 -\n",
      "127.0.0.1 - - [03/Nov/2021 12:26:45] \"GET /chat HTTP/1.1\" 200 -\n"
     ]
    },
    {
     "name": "stdout",
     "output_type": "stream",
     "text": [
      "ㅎㅎ\n",
      "[[1.7051283e-12 4.3481134e-07 8.9039177e-01 2.1608753e-02 4.2327112e-05\n",
      "  6.3775875e-02 2.4180759e-02]]\n",
      "['about']\n"
     ]
    },
    {
     "name": "stderr",
     "output_type": "stream",
     "text": [
      "[2021-11-03 12:26:55,856] ERROR in app: Exception on /chat_req [GET]\n",
      "Traceback (most recent call last):\n",
      "  File \"C:\\Users\\bigdata02\\anaconda3\\lib\\site-packages\\flask\\app.py\", line 2447, in wsgi_app\n",
      "    response = self.full_dispatch_request()\n",
      "  File \"C:\\Users\\bigdata02\\anaconda3\\lib\\site-packages\\flask\\app.py\", line 1952, in full_dispatch_request\n",
      "    rv = self.handle_user_exception(e)\n",
      "  File \"C:\\Users\\bigdata02\\anaconda3\\lib\\site-packages\\flask\\app.py\", line 1821, in handle_user_exception\n",
      "    reraise(exc_type, exc_value, tb)\n",
      "  File \"C:\\Users\\bigdata02\\anaconda3\\lib\\site-packages\\flask\\_compat.py\", line 39, in reraise\n",
      "    raise value\n",
      "  File \"C:\\Users\\bigdata02\\anaconda3\\lib\\site-packages\\flask\\app.py\", line 1950, in full_dispatch_request\n",
      "    rv = self.dispatch_request()\n",
      "  File \"C:\\Users\\bigdata02\\anaconda3\\lib\\site-packages\\flask\\app.py\", line 1936, in dispatch_request\n",
      "    return self.view_functions[rule.endpoint](**req.view_args)\n",
      "  File \"<ipython-input-10-e1e62d477386>\", line 55, in chatreq\n",
      "    return datachat\n",
      "UnboundLocalError: local variable 'datachat' referenced before assignment\n",
      "127.0.0.1 - - [03/Nov/2021 12:26:55] \"GET /chat_req?message=ㅎㅎ HTTP/1.1\" 500 -\n"
     ]
    },
    {
     "name": "stdout",
     "output_type": "stream",
     "text": [
      "기쁠때 읽을 책\n",
      "[[1.7035310e-01 4.9041554e-01 1.0406645e-05 8.6520071e-04 3.3499473e-01\n",
      "  3.3610673e-03 2.3194741e-11]]\n",
      "['1']\n"
     ]
    },
    {
     "name": "stderr",
     "output_type": "stream",
     "text": [
      "[2021-11-03 12:28:52,571] ERROR in app: Exception on /chat_req [GET]\n",
      "Traceback (most recent call last):\n",
      "  File \"C:\\Users\\bigdata02\\anaconda3\\lib\\site-packages\\flask\\app.py\", line 2447, in wsgi_app\n",
      "    response = self.full_dispatch_request()\n",
      "  File \"C:\\Users\\bigdata02\\anaconda3\\lib\\site-packages\\flask\\app.py\", line 1952, in full_dispatch_request\n",
      "    rv = self.handle_user_exception(e)\n",
      "  File \"C:\\Users\\bigdata02\\anaconda3\\lib\\site-packages\\flask\\app.py\", line 1821, in handle_user_exception\n",
      "    reraise(exc_type, exc_value, tb)\n",
      "  File \"C:\\Users\\bigdata02\\anaconda3\\lib\\site-packages\\flask\\_compat.py\", line 39, in reraise\n",
      "    raise value\n",
      "  File \"C:\\Users\\bigdata02\\anaconda3\\lib\\site-packages\\flask\\app.py\", line 1950, in full_dispatch_request\n",
      "    rv = self.dispatch_request()\n",
      "  File \"C:\\Users\\bigdata02\\anaconda3\\lib\\site-packages\\flask\\app.py\", line 1936, in dispatch_request\n",
      "    return self.view_functions[rule.endpoint](**req.view_args)\n",
      "  File \"<ipython-input-10-e1e62d477386>\", line 55, in chatreq\n",
      "    return datachat\n",
      "UnboundLocalError: local variable 'datachat' referenced before assignment\n",
      "127.0.0.1 - - [03/Nov/2021 12:28:52] \"GET /chat_req?message=기쁠때%20읽을%20책 HTTP/1.1\" 500 -\n"
     ]
    }
   ],
   "source": [
    "# <-- 플라스크 서버 설정 -->\n",
    "from flask import Flask, render_template, request \n",
    "import json \n",
    "import numpy as np\n",
    "from tensorflow import keras\n",
    "from sklearn.preprocessing import LabelEncoder\n",
    "\n",
    "import colorama \n",
    "colorama.init()\n",
    "from colorama import Fore, Style, Back\n",
    "import urllib.request\n",
    "import cx_Oracle\n",
    "import random\n",
    "import pickle\n",
    "\n",
    "#     return res\n",
    "\n",
    "app = Flask(__name__)\n",
    "print(__name__)\n",
    "\n",
    "with open(\"intents.json\", encoding='UTF-8') as file:\n",
    "    data = json.load(file)\n",
    "@app.route(\"/chat_req\", methods=['GET','POST'])\n",
    "def chatreq():\n",
    "    mes = request.args['message'] # 사용자 대화 데이터를 넣어줄곳\n",
    "    print(mes)\n",
    "    model = keras.models.load_model('chat_model')\n",
    "    \n",
    "    # load tokenizer object\n",
    "    with open('tokenizer.pickle', 'rb') as handle:\n",
    "        tokenizer = pickle.load(handle)\n",
    "\n",
    "    # load label encoder object\n",
    "    with open('label_encoder.pickle', 'rb') as enc:\n",
    "        lbl_encoder = pickle.load(enc)\n",
    "\n",
    "    # parameters\n",
    "    max_len = 20\n",
    "\n",
    "\n",
    "    result = model.predict(keras.preprocessing.sequence.pad_sequences(tokenizer.texts_to_sequences([mes]),\n",
    "                                            truncating='post', maxlen=max_len))\n",
    "    tag = lbl_encoder.inverse_transform([np.argmax(result)])\n",
    "    for i in data['intents']:\n",
    "        if i['tag'] == tag:\n",
    "            print(np.random.choice(i['responses']))\n",
    "            # datachat = Fore.GREEN + \"ChatBot:\" + Style.RESET_ALL , np.random.choice(i['responses'])\n",
    "            datachat = np.random.choice(i['responses'])\n",
    "            print(datachat)\n",
    "        return datachat\n",
    "\n",
    "@app.route(\"/chat\", methods=['GET','POST'])\n",
    "def chatresp():\n",
    "    return render_template('chat.html')\n",
    "\n",
    "app.run(debug=False)\n"
   ]
  },
  {
   "cell_type": "code",
   "execution_count": null,
   "metadata": {},
   "outputs": [],
   "source": []
  }
 ],
 "metadata": {
  "interpreter": {
   "hash": "2861f951e3a7c399de0827812245939bb469fdb27d1e7b9f1c341f8a0f27b67a"
  },
  "kernelspec": {
   "display_name": "Python 3.8.5 64-bit ('base': conda)",
   "name": "python3"
  },
  "language_info": {
   "codemirror_mode": {
    "name": "ipython",
    "version": 3
   },
   "file_extension": ".py",
   "mimetype": "text/x-python",
   "name": "python",
   "nbconvert_exporter": "python",
   "pygments_lexer": "ipython3",
   "version": "3.8.5"
  },
  "orig_nbformat": 4
 },
 "nbformat": 4,
 "nbformat_minor": 2
}
